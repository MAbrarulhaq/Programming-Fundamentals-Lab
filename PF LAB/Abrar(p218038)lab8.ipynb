{
 "cells": [
  {
   "cell_type": "code",
   "execution_count": null,
   "id": "6fb9f2b6",
   "metadata": {},
   "outputs": [],
   "source": [
    "rows=7\n",
    "column=5\n",
    "for i in range(1,rows+1):\n",
    "    for j in range(1,column+1):\n",
    "        print(j,end=' ')\n",
    "        if j==column:\n",
    "            print()"
   ]
  },
  {
   "cell_type": "code",
   "execution_count": null,
   "id": "510dad7a",
   "metadata": {},
   "outputs": [],
   "source": [
    "rows=5\n",
    "for i in range(1,rows+1):\n",
    "    for j in range(i+1):\n",
    "        print(j*'*')\n",
    "        "
   ]
  },
  {
   "cell_type": "code",
   "execution_count": null,
   "id": "8ebe2594",
   "metadata": {},
   "outputs": [],
   "source": [
    "rows=7\n",
    "for i in range(rows,0,-1):\n",
    "    for j in range(i,0,-1):\n",
    "        print('*',end='')\n",
    "        print('\\n')"
   ]
  },
  {
   "cell_type": "code",
   "execution_count": null,
   "id": "2f9daf9c",
   "metadata": {},
   "outputs": [],
   "source": [
    "# question 2\n",
    "list1=['ALI','AHMED','HASSAN']\n",
    "list2=['pf se de oop']\n",
    "for i in list1:\n",
    "    for j in list2:\n",
    "        print(i,\" is enrolled in \",j)\n",
    "        print(\"---------------------\")\n"
   ]
  },
  {
   "cell_type": "code",
   "execution_count": null,
   "id": "4931982b",
   "metadata": {},
   "outputs": [],
   "source": [
    "# question 1\n",
    "for i in range(1,11):\n",
    "    for j in range(1,11):\n",
    "        print(i*j,end=' ')\n",
    "        if j==10:\n",
    "            print()"
   ]
  },
  {
   "cell_type": "code",
   "execution_count": null,
   "id": "6eb53a8e",
   "metadata": {},
   "outputs": [],
   "source": [
    "# question 3\n",
    "list1=['john','merissa','pete','dyton']\n",
    "list2=['japenese','american','mexican','french']\n",
    "for i in list1:\n",
    "    for j in list2:\n",
    "        print(i,\" eats \",j)"
   ]
  },
  {
   "cell_type": "code",
   "execution_count": 4,
   "id": "ef46814c",
   "metadata": {},
   "outputs": [
    {
     "name": "stdout",
     "output_type": "stream",
     "text": [
      "enter number5\n",
      "1.7166666666666668\n"
     ]
    }
   ],
   "source": [
    "# question 4\n",
    "fact=1\n",
    "s=0\n",
    "i=1\n",
    "n=int(input(\"enter number\"))\n",
    "while i<=n:\n",
    "    fact*=i\n",
    "    i+=1\n",
    "    s+=1/fact\n",
    "print(s)\n",
    "\n",
    "    "
   ]
  },
  {
   "cell_type": "code",
   "execution_count": null,
   "id": "9ecdcad0",
   "metadata": {},
   "outputs": [],
   "source": [
    "#question 6\n",
    "for i in range(3):\n",
    "    for j in range(i):\n",
    "        name=input(\"enter the name of the student\")\n",
    "        scores=int(input(\"enter scores 1:\"))\n",
    "        scores=int(input(\"enter scores 2:\"))\n",
    "        scores=int(input(\"enter scores 3:\"))\n",
    "        print(\"name :\",name) \n",
    "        aveg=(scores+scores+scores)/3\n",
    "        print(\"average\",aveg)"
   ]
  },
  {
   "cell_type": "code",
   "execution_count": null,
   "id": "e666ef51",
   "metadata": {},
   "outputs": [],
   "source": [
    "# question 5\n",
    "s=input(\"enter a symbol\")\n",
    "for i in range(6):\n",
    "    print(i*s)\n",
    "for i in range(6,0,-1):\n",
    "    print(i*s)"
   ]
  },
  {
   "cell_type": "code",
   "execution_count": null,
   "id": "9d6c0612",
   "metadata": {},
   "outputs": [],
   "source": [
    "# question 5(b)\n",
    "s=input(\"enter a symbol\")\n",
    "for i in range(6):\n",
    "    print(i*s)\n",
    "for i in range(6,0,-1):\n",
    "    print(i*s)"
   ]
  },
  {
   "cell_type": "code",
   "execution_count": null,
   "id": "f0962e35",
   "metadata": {},
   "outputs": [],
   "source": []
  }
 ],
 "metadata": {
  "kernelspec": {
   "display_name": "Python 3 (ipykernel)",
   "language": "python",
   "name": "python3"
  },
  "language_info": {
   "codemirror_mode": {
    "name": "ipython",
    "version": 3
   },
   "file_extension": ".py",
   "mimetype": "text/x-python",
   "name": "python",
   "nbconvert_exporter": "python",
   "pygments_lexer": "ipython3",
   "version": "3.8.12"
  }
 },
 "nbformat": 4,
 "nbformat_minor": 5
}
