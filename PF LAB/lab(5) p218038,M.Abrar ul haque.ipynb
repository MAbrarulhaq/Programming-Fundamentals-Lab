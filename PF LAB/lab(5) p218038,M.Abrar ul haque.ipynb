{
 "cells": [
  {
   "cell_type": "code",
   "execution_count": null,
   "id": "2ef29cef",
   "metadata": {},
   "outputs": [],
   "source": [
    "# question 1\n",
    "n=int(input(\"enter any number\"))\n",
    "if n%7==0:\n",
    "    print(\"Divisible by 7\")\n",
    "else:\n",
    "    print(\"not divisible by 7\")"
   ]
  },
  {
   "cell_type": "code",
   "execution_count": 10,
   "id": "291034c9",
   "metadata": {},
   "outputs": [
    {
     "name": "stdout",
     "output_type": "stream",
     "text": [
      "enter any number2\n",
      "enter any number3\n",
      "enter any number5\n",
      "largest number 5\n"
     ]
    }
   ],
   "source": [
    "# question 2\n",
    "x=int(input(\"enter any number\"))\n",
    "y=int(input(\"enter any number\"))\n",
    "z=int(input(\"enter any number\"))\n",
    "def largest_number(x,y,z):\n",
    "    if x>y:\n",
    "        print(\"largest number\",x)\n",
    "    elif y>z:\n",
    "        print(\"largest number\",y)\n",
    "    else:\n",
    "        print(\"largest number\",z)\n",
    "largest_number(x,y,z)"
   ]
  },
  {
   "cell_type": "code",
   "execution_count": 12,
   "id": "bb9bf54f",
   "metadata": {},
   "outputs": [
    {
     "name": "stdout",
     "output_type": "stream",
     "text": [
      "enter any number2\n",
      "enter any number3\n",
      "enter any number5\n",
      "largest number 5\n"
     ]
    }
   ],
   "source": [
    "# question 3\n",
    "x=int(input(\"enter any number\"))\n",
    "y=int(input(\"enter any number\"))\n",
    "z=int(input(\"enter any number\"))\n",
    "def largest(x,y,z):\n",
    "    if x>y:\n",
    "        if x>z:\n",
    "            print(\"largest number\",x)\n",
    "        else:\n",
    "            print(x,\"is not largest number \")\n",
    "    elif y>z:\n",
    "        if y>x:\n",
    "            print(\"largest number\",y)\n",
    "        else:\n",
    "            print(y,\"is not largest number \")\n",
    "    else:\n",
    "        if z>x and z>y:\n",
    "            print(\"largest number\",z)\n",
    "        else:\n",
    "            print(z,\"is not largest number \")\n",
    "largest(x,y,z)"
   ]
  },
  {
   "cell_type": "code",
   "execution_count": null,
   "id": "668ce769",
   "metadata": {},
   "outputs": [],
   "source": [
    "# question 4\n",
    "a=int(input(\"input lengths of a triangle sides\"))\n",
    "b=int(input(\"input length of a triangle sides\"))\n",
    "c=int(input(\"input length of a triangle sides\"))\n",
    "if a==b and b==c:\n",
    "    print(\"Equilateral triangle\")\n",
    "a=int(input(\"input lengths of a triangle sides\"))\n",
    "b=int(input(\"input length of a triangle sides\"))\n",
    "c=int(input(\"input length of a triangle sides\"))\n",
    "if a==b and b!=c:\n",
    "    print(\"issocelus triangle\")\n",
    "a=int(input(\"input lengths of a triangle sides\"))\n",
    "b=int(input(\"input length of a triangle sides\"))\n",
    "c=int(input(\"input length of a triangle sides\"))\n",
    "if a!=b and b!=c:\n",
    "    print(\"scalean triangle\")\n",
    "\n"
   ]
  },
  {
   "cell_type": "code",
   "execution_count": 8,
   "id": "c2846f33",
   "metadata": {},
   "outputs": [
    {
     "name": "stdout",
     "output_type": "stream",
     "text": [
      "Number of classes held :34\n",
      "Number of classes attended :32\n",
      "94.11764705882352\n",
      "Attendance is 94.11764705882352 %\n",
      "you are allowd to sit in the class\n"
     ]
    }
   ],
   "source": [
    "s=int(input(\"Number of classes held :\"))\n",
    "f=int(input(\"Number of classes attended :\"))\n",
    "per=f/s*100\n",
    "print(per)\n",
    "if per>=75:\n",
    "    print(\"Attendance is\",per,\"%\")\n",
    "    print(\"you are allowd to sit in the class\")\n",
    "else:\n",
    "    (\"you are not allowed to sit in exam\")"
   ]
  },
  {
   "cell_type": "code",
   "execution_count": null,
   "id": "3640d3d6",
   "metadata": {},
   "outputs": [],
   "source": []
  }
 ],
 "metadata": {
  "kernelspec": {
   "display_name": "Python 3 (ipykernel)",
   "language": "python",
   "name": "python3"
  },
  "language_info": {
   "codemirror_mode": {
    "name": "ipython",
    "version": 3
   },
   "file_extension": ".py",
   "mimetype": "text/x-python",
   "name": "python",
   "nbconvert_exporter": "python",
   "pygments_lexer": "ipython3",
   "version": "3.8.12"
  }
 },
 "nbformat": 4,
 "nbformat_minor": 5
}
