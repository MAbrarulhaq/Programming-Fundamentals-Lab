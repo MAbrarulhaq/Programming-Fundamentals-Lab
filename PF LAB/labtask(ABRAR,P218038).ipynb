{
 "cells": [
  {
   "cell_type": "code",
   "execution_count": null,
   "id": "bbf5ebd4",
   "metadata": {},
   "outputs": [],
   "source": [
    "a=10\n",
    "b=20\n",
    "print(\"a==b :\",a==b)\n",
    "print(\"a!=b :\",a!=b)\n",
    "print(\"a<b :\",a<b)\n",
    "print(\"a>b :\",a>b)\n",
    "print(\"a<=b :\",a<=b)\n",
    "print(\"a>=b :\",a>=b)\n"
   ]
  },
  {
   "cell_type": "code",
   "execution_count": null,
   "id": "e8568761",
   "metadata": {},
   "outputs": [],
   "source": [
    "x=22\n",
    "y=33\n",
    "x+=y\n",
    "x\n",
    "\n",
    "\n"
   ]
  },
  {
   "cell_type": "code",
   "execution_count": null,
   "id": "c458b49a",
   "metadata": {},
   "outputs": [],
   "source": [
    "x*=y\n",
    "x\n"
   ]
  },
  {
   "cell_type": "code",
   "execution_count": null,
   "id": "2cc85dae",
   "metadata": {},
   "outputs": [],
   "source": [
    "x/=y\n",
    "x\n"
   ]
  },
  {
   "cell_type": "code",
   "execution_count": null,
   "id": "9fe4fee9",
   "metadata": {},
   "outputs": [],
   "source": [
    "x%=y\n",
    "x\n"
   ]
  },
  {
   "cell_type": "code",
   "execution_count": null,
   "id": "db844dbb",
   "metadata": {},
   "outputs": [],
   "source": [
    "x=y\n",
    "x"
   ]
  },
  {
   "cell_type": "code",
   "execution_count": null,
   "id": "0179a906",
   "metadata": {},
   "outputs": [],
   "source": [
    "lab= \"programming fundamental\"\n",
    "\"pro\" in lab"
   ]
  },
  {
   "cell_type": "code",
   "execution_count": null,
   "id": "f9409899",
   "metadata": {},
   "outputs": [],
   "source": [
    "\"lab\" in lab"
   ]
  },
  {
   "cell_type": "code",
   "execution_count": null,
   "id": "00573c85",
   "metadata": {},
   "outputs": [],
   "source": [
    "z=60\n",
    "c=13\n",
    "v=0\n",
    "v=z&c\n",
    "v\n"
   ]
  },
  {
   "cell_type": "code",
   "execution_count": null,
   "id": "a611907a",
   "metadata": {},
   "outputs": [],
   "source": [
    "g=100\n",
    "n=44\n",
    "m=0\n",
    "m=g|n\n",
    "m"
   ]
  },
  {
   "cell_type": "code",
   "execution_count": null,
   "id": "ad61e72e",
   "metadata": {},
   "outputs": [],
   "source": [
    "length=int(input(\"enter the length of parallelepiped\"))\n",
    "width=int(input(\"enter the width of parallelepiped\"))\n",
    "height=int(input(\"enter the height of parallelepiped\"))\n",
    "volume=length*width*height\n",
    "print(\"the volume of parallelepiped is\", volume)"
   ]
  },
  {
   "cell_type": "code",
   "execution_count": 25,
   "id": "5cdc8db7",
   "metadata": {},
   "outputs": [
    {
     "name": "stdout",
     "output_type": "stream",
     "text": [
      "enter the radius of sphere2\n",
      "the area of the sphere is 50.26548245743669\n"
     ]
    }
   ],
   "source": [
    "from math import pi\n",
    "radius=int(input(\"enter the radius of sphere\"))\n",
    "area=4*pi*radius**2\n",
    "print(\"the area of the sphere is\", area)"
   ]
  },
  {
   "cell_type": "code",
   "execution_count": 24,
   "id": "cd4331f4",
   "metadata": {},
   "outputs": [
    {
     "name": "stdout",
     "output_type": "stream",
     "text": [
      "ali *** asif *** sajid *** abrar *** shery\n"
     ]
    }
   ],
   "source": [
    "name1=\"ali\"\n",
    "name2=\"asif\"\n",
    "name3=\"sajid\"\n",
    "name4=\"abrar\"\n",
    "name5=\"shery\"\n",
    "print(name1,name2,name3,name4,name5,sep=' *** ')"
   ]
  },
  {
   "cell_type": "code",
   "execution_count": 16,
   "id": "25379663",
   "metadata": {},
   "outputs": [
    {
     "name": "stdout",
     "output_type": "stream",
     "text": [
      "enter three names separated by space :ali asif sajid\n",
      "Name 1 : ali\n",
      "Name 2 : asif\n",
      "Name 3 : sajid\n"
     ]
    }
   ],
   "source": [
    "a,b,c=input(\"enter three names separated by space :\").split()\n",
    "print(\"Name 1 :\",a)\n",
    "print(\"Name 2 :\",b)\n",
    "print(\"Name 3 :\",c)\n",
    "\n",
    "\n",
    "\n",
    "\n"
   ]
  },
  {
   "cell_type": "code",
   "execution_count": null,
   "id": "764c02e9",
   "metadata": {},
   "outputs": [],
   "source": []
  }
 ],
 "metadata": {
  "kernelspec": {
   "display_name": "Python 3 (ipykernel)",
   "language": "python",
   "name": "python3"
  },
  "language_info": {
   "codemirror_mode": {
    "name": "ipython",
    "version": 3
   },
   "file_extension": ".py",
   "mimetype": "text/x-python",
   "name": "python",
   "nbconvert_exporter": "python",
   "pygments_lexer": "ipython3",
   "version": "3.8.12"
  }
 },
 "nbformat": 4,
 "nbformat_minor": 5
}
