{
 "cells": [
  {
   "cell_type": "code",
   "execution_count": 4,
   "id": "3f38b8b5",
   "metadata": {},
   "outputs": [
    {
     "name": "stdout",
     "output_type": "stream",
     "text": [
      "enter the element to be searched:2\n"
     ]
    },
    {
     "data": {
      "text/plain": [
       "True"
      ]
     },
     "execution_count": 4,
     "metadata": {},
     "output_type": "execute_result"
    }
   ],
   "source": [
    "\"\"\" first take input\"\"\"\n",
    "n=int(input(\"enter the element to be searched:\"))\n",
    "\"\"\"making  a list\"\"\"\n",
    "l=[[1,2,3],[4,5,6],[7,8,9]]\n",
    "\"\"\" taking length of list fro checking indexes\"\"\"\n",
    "y=len(l)\n",
    "\"\"\"makinf a function\"\"\"\n",
    "def search_element(l):\n",
    "    \"\"\" the first loop is iterating the list length\"\"\"\n",
    "    for i in range(y):\n",
    "        \"\"\" second loop is checking indexes of nested list\"\"\"\n",
    "        for j in range(y):\n",
    "            if l[i][j]==n:\n",
    "                return True\n",
    "            \n",
    "    return False\n",
    "\"\"\"calling a function\"\"\"\n",
    "search_element(l)\n",
    "   \n",
    "    "
   ]
  },
  {
   "cell_type": "code",
   "execution_count": 3,
   "id": "97455be8",
   "metadata": {},
   "outputs": [
    {
     "name": "stdout",
     "output_type": "stream",
     "text": [
      "product of this tuple is: -864\n"
     ]
    }
   ],
   "source": [
    "\"\"\"making tuples\"\"\"\n",
    "num=(4,3,2,2,-1,18)\n",
    "\"\"\" function with tuple as a parameter\"\"\"\n",
    "def prod(num):\n",
    "    product=1\n",
    "    \"\"\"itrating tuple\"\"\"\n",
    "    for i in num:\n",
    "        product*=i\n",
    "    return product\n",
    "x=prod(num)\n",
    "print(\"product of this tuple is:\",x)"
   ]
  },
  {
   "cell_type": "code",
   "execution_count": 2,
   "id": "477a1e58",
   "metadata": {},
   "outputs": [
    {
     "name": "stdout",
     "output_type": "stream",
     "text": [
      "expected result 2\n"
     ]
    }
   ],
   "source": [
    "list1=['abc','xyz','aba','1221']\n",
    "a='ab'\n",
    "\"\"\"counter to calculate how many time a in list1\"\"\"\n",
    "counter=0\n",
    "for i in list1:\n",
    "    if a in i:    \n",
    "        \"\"\"adding after calculation\"\"\"\n",
    "        counter+=1\n",
    "print(\"expected result\",counter)"
   ]
  },
  {
   "cell_type": "code",
   "execution_count": 5,
   "id": "24b470c4",
   "metadata": {},
   "outputs": [
    {
     "name": "stdout",
     "output_type": "stream",
     "text": [
      "words that starts with letter a are\n",
      "['abcd', 'abc', 'abr', 'adf']\n"
     ]
    }
   ],
   "source": [
    "list2=['abcd','abc','bcd','bkie','abr','nfjn','eeefrf','adf']\n",
    "a=[]\n",
    "l=len(list2)\n",
    "def words_with_a(list2):\n",
    "    for i in range(l):\n",
    "        if list2[i][0]=='a':\n",
    "            \"\"\"i for taking indexes  of list and 0 for first indes of each strig and then append in new list\"\"\"\n",
    "            a.append(list2[i])\n",
    "    return a\n",
    "x=words_with_a(list2)\n",
    "print(\"words that starts with letter a are\")\n",
    "print(a)\n",
    "            \n",
    "    "
   ]
  },
  {
   "cell_type": "code",
   "execution_count": null,
   "id": "23b86db4",
   "metadata": {},
   "outputs": [],
   "source": []
  },
  {
   "cell_type": "code",
   "execution_count": null,
   "id": "cbd03017",
   "metadata": {},
   "outputs": [],
   "source": []
  }
 ],
 "metadata": {
  "kernelspec": {
   "display_name": "Python 3 (ipykernel)",
   "language": "python",
   "name": "python3"
  },
  "language_info": {
   "codemirror_mode": {
    "name": "ipython",
    "version": 3
   },
   "file_extension": ".py",
   "mimetype": "text/x-python",
   "name": "python",
   "nbconvert_exporter": "python",
   "pygments_lexer": "ipython3",
   "version": "3.8.12"
  }
 },
 "nbformat": 4,
 "nbformat_minor": 5
}
