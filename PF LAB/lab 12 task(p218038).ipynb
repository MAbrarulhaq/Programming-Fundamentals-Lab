{
 "cells": [
  {
   "cell_type": "code",
   "execution_count": 9,
   "id": "75e23372",
   "metadata": {},
   "outputs": [
    {
     "data": {
      "text/plain": [
       "tuple"
      ]
     },
     "execution_count": 9,
     "metadata": {},
     "output_type": "execute_result"
    }
   ],
   "source": [
    "sample=(1,2,3)\n",
    "\"\"\" sample is a tuple\"\"\"\n",
    "x=type(sample)\n",
    "\"\"\"x containing type of sample\"\"\"\n",
    "x"
   ]
  },
  {
   "cell_type": "code",
   "execution_count": null,
   "id": "69f19def",
   "metadata": {},
   "outputs": [],
   "source": [
    "a=int(input(\"enter number\"))\n",
    "b=int(input(\"enter number\"))\n",
    "c=int(input(\"enter number\"))\n",
    "d=int(input(\"enter number\"))\n",
    "x=int(input(\"enter number\"))\n",
    "k=int(input(\"enter number\"))\n",
    "def calcu(a,b,c,d,x,k):\n",
    "    if x>k:\n",
    "        w=a*x**3-b*x**2+c*x-d\n",
    "        \"\"\"calculating the result if x is greater than k\"\"\"\n",
    "    elif x==k:\n",
    "         w=0\n",
    "            \"\"\"calculating the result if x is equal than k\"\"\"\n",
    "    else:\n",
    "        if x<k:\n",
    "            w=-a*x**3+b*x**2-c*x+d\n",
    "            \"\"\"calculating the result if x is less than k\"\"\"\n",
    "    return w\n",
    "m=calcu(a,b,c,d,x,k)\n",
    "print(m)"
   ]
  },
  {
   "cell_type": "code",
   "execution_count": 29,
   "id": "6113ddcf",
   "metadata": {},
   "outputs": [
    {
     "name": "stdout",
     "output_type": "stream",
     "text": [
      "jesaa"
     ]
    }
   ],
   "source": [
    "string='jesaa29Roy'\n",
    "l=len(string)\n",
    "i=0\n",
    "while i<l:\n",
    "    if string[i].isdecimal():\n",
    "        \"\"\"checking the string that if there is any niumber in it\"\"\"\n",
    "        break\n",
    "    else:\n",
    "        print(string[i],end='')\n",
    "        i+=1    \n",
    "    "
   ]
  },
  {
   "cell_type": "code",
   "execution_count": 20,
   "id": "24d4378c",
   "metadata": {},
   "outputs": [
    {
     "name": "stdout",
     "output_type": "stream",
     "text": [
      "enter your order1001\n",
      "enter type 1:battery\n",
      "enter type  2:key\n",
      "enter type 3:electrical\n",
      "enter operationbattery\n",
      "discount 900.9\n"
     ]
    }
   ],
   "source": [
    "order=int(input(\"enter your order\"))\n",
    "no1=input(\"enter type 1:\")\n",
    "no2=input(\"enter type  2:\")\n",
    "no3=input(\"enter type 3:\")\n",
    "op=input(\"enter operation\")\n",
    "if op==no1:\n",
    "    if order>1000:\n",
    "        d=10/100*order\n",
    "        print(\"discount\",order-d)\n",
    "        \"\"\"calculating the discount \"\"\"\n",
    "    else:\n",
    "        print(\"your price is\",order)\n",
    "elif op==no2:\n",
    "    if order>100:\n",
    "        d=5/100*order\n",
    "        print(\"discount\",order-d)\n",
    "        \"\"\"calculating the discount \"\"\"\n",
    "    else:\n",
    "        print(\"your price is\",order)\n",
    "elif op==no3:\n",
    "    if order>500:\n",
    "        d=10/100*order\n",
    "        print(\"discount\",order-d)\n",
    "    else:\n",
    "        print(\"your price is\",order)\n",
    "        \"\"\"calculating the discount \"\"\"\n",
    "        \n",
    "        \n",
    "        \n",
    "    "
   ]
  },
  {
   "cell_type": "code",
   "execution_count": 32,
   "id": "0a951e3b",
   "metadata": {},
   "outputs": [
    {
     "name": "stdout",
     "output_type": "stream",
     "text": [
      "Input the Filename: abc.java\n",
      "extension is 'java'\n"
     ]
    }
   ],
   "source": [
    "filename = input(\"Input the Filename: \")\n",
    "def file(filename):\n",
    "    sp = filename.split(\".\")\n",
    "    \"\"\"spliting the string with .\"\"\"\n",
    "    return repr(sp[1])   \n",
    "\"\"\"giving the indexes to take the second string\"\"\"\n",
    "x=file(filename)\n",
    "print(\"extension is\",x)"
   ]
  },
  {
   "cell_type": "code",
   "execution_count": 30,
   "id": "1e54b91b",
   "metadata": {},
   "outputs": [
    {
     "name": "stdout",
     "output_type": "stream",
     "text": [
      "Twinkle, twinkle, little star, \n",
      "\tHow I wonder what you are! \n",
      "\t\tUp above the world so high, \n",
      "\t\tLike a diamond in the sky. \n",
      "Twinkle, twinkle, little star, \n",
      "\tHow I wonder what you are!\n"
     ]
    },
    {
     "data": {
      "text/plain": [
       "'\\n for next line and \\t is for space '"
      ]
     },
     "execution_count": 30,
     "metadata": {},
     "output_type": "execute_result"
    }
   ],
   "source": [
    "print(\"Twinkle, twinkle, little star, \\n\\tHow I wonder what you are! \\n\\t\\tUp above the world so high, \\n\\t\\tLike a diamond in the sky. \\nTwinkle, twinkle, little star, \\n\\tHow I wonder what you are!\")\n",
    "\"\"\"\\n for next line and \\t is for space \"\"\""
   ]
  },
  {
   "cell_type": "code",
   "execution_count": null,
   "id": "6969b2e2",
   "metadata": {},
   "outputs": [],
   "source": []
  }
 ],
 "metadata": {
  "kernelspec": {
   "display_name": "Python 3 (ipykernel)",
   "language": "python",
   "name": "python3"
  },
  "language_info": {
   "codemirror_mode": {
    "name": "ipython",
    "version": 3
   },
   "file_extension": ".py",
   "mimetype": "text/x-python",
   "name": "python",
   "nbconvert_exporter": "python",
   "pygments_lexer": "ipython3",
   "version": "3.8.12"
  }
 },
 "nbformat": 4,
 "nbformat_minor": 5
}
