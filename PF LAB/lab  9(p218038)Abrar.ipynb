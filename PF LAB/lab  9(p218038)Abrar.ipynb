{
 "cells": [
  {
   "cell_type": "code",
   "execution_count": 1,
   "id": "5e387d05",
   "metadata": {},
   "outputs": [
    {
     "data": {
      "text/plain": [
       "[1, 22, 3, 33, 5, 44, 2, 11, 4, 55, 6]"
      ]
     },
     "execution_count": 1,
     "metadata": {},
     "output_type": "execute_result"
    }
   ],
   "source": [
    "# QUESTION 3\n",
    "a=[1,22,3,33,5,44]\n",
    "b=[2,11,4,55,6]\n",
    "c=a+b\n",
    "c\n",
    "\n"
   ]
  },
  {
   "cell_type": "code",
   "execution_count": 2,
   "id": "71851508",
   "metadata": {},
   "outputs": [
    {
     "data": {
      "text/plain": [
       "[1, 22, 3, 33, 5, 44, 2, 11, 4, 55, 6, 17, 81, 91]"
      ]
     },
     "execution_count": 2,
     "metadata": {},
     "output_type": "execute_result"
    }
   ],
   "source": [
    "c.extend([17,81,91])\n",
    "c"
   ]
  },
  {
   "cell_type": "code",
   "execution_count": 3,
   "id": "9294b80e",
   "metadata": {},
   "outputs": [
    {
     "name": "stdout",
     "output_type": "stream",
     "text": [
      "1\n",
      "22\n",
      "3\n"
     ]
    }
   ],
   "source": [
    "print(c[0])\n",
    "print(c[1])\n",
    "print(c[2])"
   ]
  },
  {
   "cell_type": "code",
   "execution_count": 4,
   "id": "0c6a9c5a",
   "metadata": {},
   "outputs": [
    {
     "name": "stdout",
     "output_type": "stream",
     "text": [
      "6\n"
     ]
    }
   ],
   "source": [
    "print(b[4])"
   ]
  },
  {
   "cell_type": "code",
   "execution_count": null,
   "id": "c30cecf6",
   "metadata": {},
   "outputs": [],
   "source": [
    "l=len(a)\n",
    "l"
   ]
  },
  {
   "cell_type": "code",
   "execution_count": null,
   "id": "180b8209",
   "metadata": {},
   "outputs": [],
   "source": [
    "c=[1, 22, 3, 33, 5, 44, 2, 11, 4, 55, 6,17, 81, 96]\n",
    "a=c[13]\n",
    "for i in c:\n",
    "    if i>=a:\n",
    "        print(\"maximum\",i)\n",
    "        "
   ]
  },
  {
   "cell_type": "code",
   "execution_count": 11,
   "id": "8089fa74",
   "metadata": {},
   "outputs": [
    {
     "name": "stdout",
     "output_type": "stream",
     "text": [
      "average 27\n"
     ]
    }
   ],
   "source": [
    "c=[1, 22, 3, 33, 5, 44, 2, 11, 4, 55, 6,17, 81, 96]\n",
    "Sum=0\n",
    "for i in c:\n",
    "    Sum+=i\n",
    "avg=Sum//14\n",
    "print(\"average\",avg)\n",
    "    "
   ]
  },
  {
   "cell_type": "code",
   "execution_count": null,
   "id": "d8928851",
   "metadata": {},
   "outputs": [],
   "source": [
    "c=[1, 22, 3, 33, 5, 44, 2, 11, 4, 55, 6,17, 81, 96]\n",
    "c.insert(4,42)\n",
    "c"
   ]
  },
  {
   "cell_type": "code",
   "execution_count": 17,
   "id": "ec0ab6c4",
   "metadata": {},
   "outputs": [
    {
     "name": "stdout",
     "output_type": "stream",
     "text": [
      "1,8,27,64,125,216,343,"
     ]
    }
   ],
   "source": [
    "# QUESTION 2\n",
    "n=[1,2,3,4,5,6,7]\n",
    "for i in n:\n",
    "    n=i**3\n",
    "    print(n,end=\",\")"
   ]
  },
  {
   "cell_type": "code",
   "execution_count": 16,
   "id": "f2576756",
   "metadata": {},
   "outputs": [
    {
     "data": {
      "text/plain": [
       "[3, 5]"
      ]
     },
     "execution_count": 16,
     "metadata": {},
     "output_type": "execute_result"
    }
   ],
   "source": [
    "#QUESTION 4\n",
    "k=[1,2,3,4,5]\n",
    "z=[3,5,6,7,8]\n",
    "c=[]\n",
    "def common_element(x,y):\n",
    "    for i in k:\n",
    "        for j in range(len(z)):\n",
    "            if i ==z[j]:\n",
    "                c.append(i)\n",
    "    return c\n",
    "common_element(x,y)\n",
    "  "
   ]
  },
  {
   "cell_type": "code",
   "execution_count": 14,
   "id": "9c216a3c",
   "metadata": {},
   "outputs": [
    {
     "name": "stdout",
     "output_type": "stream",
     "text": [
      "['18PWBCS0101,Muhammad,Ahmad,A,3.8']\n",
      "['The Godfather*1972*9.2']\n",
      "['The-count()-function-finds-the-count-of-the-value-passed-to-it']\n"
     ]
    }
   ],
   "source": [
    "#QUESTION NO 1\n",
    "studentrec=\"18PWBCS0101,Muhammad,Ahmad,A,3.8\"\n",
    "x=[]\n",
    "x.append(studentrec)\n",
    "print(x)\n",
    "movierec = \"The Godfather*1972*9.2\"\n",
    "y= []\n",
    "y.append(movierec)\n",
    "print(y)\n",
    "testst = \"The-count()-function-finds-the-count-of-the-value-passed-to-it\"\n",
    "z = []\n",
    "z.append(test_string)\n",
    "print(z)"
   ]
  },
  {
   "cell_type": "code",
   "execution_count": null,
   "id": "0152bd7e",
   "metadata": {},
   "outputs": [],
   "source": []
  }
 ],
 "metadata": {
  "kernelspec": {
   "display_name": "Python 3 (ipykernel)",
   "language": "python",
   "name": "python3"
  },
  "language_info": {
   "codemirror_mode": {
    "name": "ipython",
    "version": 3
   },
   "file_extension": ".py",
   "mimetype": "text/x-python",
   "name": "python",
   "nbconvert_exporter": "python",
   "pygments_lexer": "ipython3",
   "version": "3.8.12"
  }
 },
 "nbformat": 4,
 "nbformat_minor": 5
}
