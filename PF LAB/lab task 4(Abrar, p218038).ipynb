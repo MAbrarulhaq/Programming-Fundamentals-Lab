{
 "cells": [
  {
   "cell_type": "code",
   "execution_count": null,
   "id": "0b3de221",
   "metadata": {},
   "outputs": [],
   "source": [
    "#Q2\n",
    "def accel(v1,v2,t1,t2):\n",
    "    x=v2-v1\n",
    "    y=t2-t1\n",
    "    a=x/y\n",
    "    print(a)\n",
    "accel(v1=5,v2=7,t1=8,t2=9)"
   ]
  },
  {
   "cell_type": "code",
   "execution_count": 4,
   "id": "f25b570e",
   "metadata": {},
   "outputs": [
    {
     "name": "stdout",
     "output_type": "stream",
     "text": [
      "32\n",
      "65\n",
      "110\n",
      "167\n",
      "236\n"
     ]
    }
   ],
   "source": [
    "#3\n",
    "def calculate(x):\n",
    "    y=6*x**2+3*x+2\n",
    "    return y\n",
    "print(calculate(2))\n",
    "print(calculate(3))\n",
    "print(calculate(4))\n",
    "print(calculate(5))\n",
    "print(calculate(6))"
   ]
  },
  {
   "cell_type": "code",
   "execution_count": null,
   "id": "caafd329",
   "metadata": {},
   "outputs": [],
   "source": [
    "#Q1(a)\n",
    "x=input(\"enter text in lowercase :\")\n",
    "def changecase(x):\n",
    "    return x.upper()\n",
    "changecase(x)"
   ]
  },
  {
   "cell_type": "code",
   "execution_count": 2,
   "id": "48eef114",
   "metadata": {},
   "outputs": [
    {
     "data": {
      "text/plain": [
       "24"
      ]
     },
     "execution_count": 2,
     "metadata": {},
     "output_type": "execute_result"
    }
   ],
   "source": [
    "#Q1(b)\n",
    "from math import prod\n",
    "def product(*arg):\n",
    "    return prod(arg)\n",
    "product(1,2,3,4)"
   ]
  },
  {
   "cell_type": "code",
   "execution_count": 22,
   "id": "84dac9ba",
   "metadata": {},
   "outputs": [],
   "source": [
    "#Q4\n",
    "def square(a,b):\n",
    "    x=a**2\n",
    "    y=b**2\n",
    "    def addition(a,b):\n",
    "        add=a+b\n",
    "        return add\n",
    "    result=addition(2,4)\n",
    "    result+=5\n",
    "    return result,x,y\n",
    "\n",
    "\n",
    "\n",
    "\n",
    "    "
   ]
  },
  {
   "cell_type": "code",
   "execution_count": 25,
   "id": "84b1a384",
   "metadata": {},
   "outputs": [
    {
     "name": "stdout",
     "output_type": "stream",
     "text": [
      "11 4 16\n"
     ]
    }
   ],
   "source": [
    "c,v,b=square(2,4)\n",
    "print(c,v,b)\n"
   ]
  },
  {
   "cell_type": "code",
   "execution_count": null,
   "id": "31f9b438",
   "metadata": {},
   "outputs": [],
   "source": []
  }
 ],
 "metadata": {
  "kernelspec": {
   "display_name": "Python 3 (ipykernel)",
   "language": "python",
   "name": "python3"
  },
  "language_info": {
   "codemirror_mode": {
    "name": "ipython",
    "version": 3
   },
   "file_extension": ".py",
   "mimetype": "text/x-python",
   "name": "python",
   "nbconvert_exporter": "python",
   "pygments_lexer": "ipython3",
   "version": "3.8.12"
  }
 },
 "nbformat": 4,
 "nbformat_minor": 5
}
