{
 "cells": [
  {
   "cell_type": "code",
   "execution_count": 6,
   "id": "e6014d40",
   "metadata": {},
   "outputs": [
    {
     "name": "stdout",
     "output_type": "stream",
     "text": [
      "x 6\n",
      "y 4\n",
      "z 2\n",
      "sum is even 12\n",
      "sum of all items 12\n"
     ]
    }
   ],
   "source": [
    "def dictionary(l):\n",
    "    sum = 0\n",
    "    for j,k in l.items():\n",
    "        sum= sum+k\n",
    "        print(j,k)\n",
    "    \n",
    "    if sum%2==0:\n",
    "        print(\"sum is even\",sum)\n",
    "        \n",
    "    else:\n",
    "        print(\"sum is odd\",odd)\n",
    "        \n",
    "    print(\"sum of all items\", sum)   \n",
    "        \n",
    "dic = {\"x\":6,\"y\":4,\"z\":2}\n",
    "dictionary(dic)"
   ]
  },
  {
   "cell_type": "code",
   "execution_count": 7,
   "id": "035c10ea",
   "metadata": {},
   "outputs": [
    {
     "name": "stdout",
     "output_type": "stream",
     "text": [
      "enter the text: python programm\n",
      "{'python': 6, 'programm': 8}\n"
     ]
    }
   ],
   "source": [
    "def text():\n",
    "    dic={}\n",
    "    n=input(\"enter the text: \")\n",
    "    b=n.split(\" \")\n",
    "    for i in b:\n",
    "        dic[i]=len(i)\n",
    "    return dic\n",
    "result=text()\n",
    "print(result)"
   ]
  },
  {
   "cell_type": "code",
   "execution_count": 9,
   "id": "cacee32d",
   "metadata": {},
   "outputs": [
    {
     "name": "stdout",
     "output_type": "stream",
     "text": [
      "{'Math': [89, 90, 91], 'Physics': [92, 90, 87], 'Chemistry': [90, 87, 93]}\n"
     ]
    }
   ],
   "source": [
    "dic={'Math': [88, 89, 90], 'Physics': [92, 94, 89], 'Chemistry': [90, 87, 93]}\n",
    "\n",
    "def updater(x):\n",
    "    x['Math'] = [89,90,91]\n",
    "    x['Physics'] = [92,90,87]\n",
    "    return x\n",
    "n=updater(dic)        \n",
    "print(n)"
   ]
  },
  {
   "cell_type": "code",
   "execution_count": null,
   "id": "5997f4f1",
   "metadata": {},
   "outputs": [],
   "source": []
  }
 ],
 "metadata": {
  "kernelspec": {
   "display_name": "Python 3 (ipykernel)",
   "language": "python",
   "name": "python3"
  },
  "language_info": {
   "codemirror_mode": {
    "name": "ipython",
    "version": 3
   },
   "file_extension": ".py",
   "mimetype": "text/x-python",
   "name": "python",
   "nbconvert_exporter": "python",
   "pygments_lexer": "ipython3",
   "version": "3.9.12"
  }
 },
 "nbformat": 4,
 "nbformat_minor": 5
}
