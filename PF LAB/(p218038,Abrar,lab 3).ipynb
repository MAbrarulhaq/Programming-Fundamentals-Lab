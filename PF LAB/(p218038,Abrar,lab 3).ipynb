{
 "cells": [
  {
   "cell_type": "code",
   "execution_count": 7,
   "id": "2b813ecf",
   "metadata": {},
   "outputs": [
    {
     "name": "stdout",
     "output_type": "stream",
     "text": [
      "Enter the pound you want to convert it to kilogram and gram:5\n",
      "Gram =  2267.95\n",
      "Kilogram =  2.27\n"
     ]
    }
   ],
   "source": [
    "x=int(input(\"Enter the pound you want to convert it to kilogram and gram:\"))\n",
    "def conversion(pound):\n",
    "    gram=pound*453.59\n",
    "    kilogram=pound*0.454\n",
    "    print(\"Gram = \",gram)\n",
    "    print(\"Kilogram = \",kilogram)\n",
    "conversion(x)"
   ]
  },
  {
   "cell_type": "code",
   "execution_count": 14,
   "id": "54e8fd6c",
   "metadata": {},
   "outputs": [
    {
     "name": "stdout",
     "output_type": "stream",
     "text": [
      "('add', 2, 'sub', 0, 'mul', 1, 'div', 1)\n"
     ]
    }
   ],
   "source": [
    "def operations(a=1,b=1):\n",
    "    add=a+b\n",
    "    sub=a-b\n",
    "    mul=a*b\n",
    "    div=a//b\n",
    "    return \"add\",add,\"sub\",sub,\"mul\",mul,\"div\",div\n",
    "result=operations(1,1)\n",
    "print(result)\n",
    "    "
   ]
  },
  {
   "cell_type": "code",
   "execution_count": 18,
   "id": "9a6cab0f",
   "metadata": {},
   "outputs": [
    {
     "name": "stdout",
     "output_type": "stream",
     "text": [
      "enter a time3700\n",
      "1 Hour 1 minute 40 seconds\n"
     ]
    }
   ],
   "source": [
    "time=int(input(\"enter a time\"))\n",
    "def cal(time):\n",
    "    hour=3700//3600\n",
    "    a1=3700%3600\n",
    "    mint=a1//60\n",
    "    sec=a1%60\n",
    "    print(hour,\"Hour\",mint,\"minute\",sec,\"seconds\")\n",
    "cal(time)"
   ]
  },
  {
   "cell_type": "code",
   "execution_count": 25,
   "id": "6b641d63",
   "metadata": {},
   "outputs": [
    {
     "name": "stdout",
     "output_type": "stream",
     "text": [
      "What is your name?abrar\n",
      "Hello : abrar\n"
     ]
    }
   ],
   "source": [
    "name=(input(\"What is your name?\"))\n",
    "def greeting(name):\n",
    "    print(\"Hello :\",name)\n",
    "greeting(name)"
   ]
  },
  {
   "cell_type": "code",
   "execution_count": null,
   "id": "8cf81d3a",
   "metadata": {},
   "outputs": [],
   "source": []
  }
 ],
 "metadata": {
  "kernelspec": {
   "display_name": "Python 3 (ipykernel)",
   "language": "python",
   "name": "python3"
  },
  "language_info": {
   "codemirror_mode": {
    "name": "ipython",
    "version": 3
   },
   "file_extension": ".py",
   "mimetype": "text/x-python",
   "name": "python",
   "nbconvert_exporter": "python",
   "pygments_lexer": "ipython3",
   "version": "3.8.12"
  }
 },
 "nbformat": 4,
 "nbformat_minor": 5
}
