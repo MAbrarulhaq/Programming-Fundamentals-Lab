{
 "cells": [
  {
   "cell_type": "code",
   "execution_count": 23,
   "id": "dc251e52",
   "metadata": {},
   "outputs": [
    {
     "name": "stdout",
     "output_type": "stream",
     "text": [
      "Inside first if\n",
      "Inside elif\n"
     ]
    }
   ],
   "source": [
    "a=-6\n",
    "b=1\n",
    "c=5 \n",
    "d=-7\n",
    "if a>0 or b<=1 and d<c:\n",
    "    print(\"Inside first if\")\n",
    "    a=-20\n",
    "    if c!=0 and d>-5 or a>-6:\n",
    "        print(\"Inside Second if\")\n",
    "    elif c!=-1 and d>-8 or b>=1:\n",
    "        print(\"Inside elif\")\n",
    "    else:\n",
    "        print(\"Inside else part\")\n",
    "else:\n",
    "    print(\"All Conditions fail\")\n",
    "    "
   ]
  },
  {
   "cell_type": "code",
   "execution_count": 15,
   "id": "6e178f10",
   "metadata": {},
   "outputs": [
    {
     "name": "stdout",
     "output_type": "stream",
     "text": [
      "Days  0 \n",
      "Hours  1 \n",
      "Minutes  1 \n",
      "Second  40\n"
     ]
    }
   ],
   "source": [
    "def secToDhms2(time):\n",
    "    day  = time//(24*3600)\n",
    "    time = time%(86400)\n",
    "    hour = time//3600\n",
    "    time = time%3600\n",
    "    mint = time//60\n",
    "    sec  = time%60\n",
    "    print(\"Days \",day,\"\\nHours \",hour,\"\\nMinutes \",mint,\"\\nSecond \",sec)\n",
    "\n",
    "secToDhms2(3700)    "
   ]
  },
  {
   "cell_type": "code",
   "execution_count": 6,
   "id": "4628c120",
   "metadata": {},
   "outputs": [
    {
     "name": "stdout",
     "output_type": "stream",
     "text": [
      "Inside first if\n",
      "Inside else part\n"
     ]
    }
   ],
   "source": [
    "a=-6\n",
    "b=1\n",
    "c=-1 \n",
    "d=-7\n",
    "if a>0 or b<=1 and d<c:\n",
    "    print(\"Inside first if\")\n",
    "    a=-20\n",
    "    if c!=0 and d>-5 or a>-6:\n",
    "        print(\"Inside Second if\")\n",
    "    elif c!=-1 and (d>-8 or b>=1):\n",
    "        print(\"Inside elif\")\n",
    "    else:\n",
    "        print(\"Inside else part\")\n",
    "else:\n",
    "    print(\"All Conditions fail\")\n"
   ]
  },
  {
   "cell_type": "code",
   "execution_count": 8,
   "id": "67591528",
   "metadata": {},
   "outputs": [
    {
     "name": "stdout",
     "output_type": "stream",
     "text": [
      "Hello 4\n",
      "Hello 2\n",
      "Hello 3\n",
      "Hello 1\n"
     ]
    }
   ],
   "source": [
    "def f1():\n",
    "    print(\"Hello 1\")\n",
    "\n",
    "def f2():\n",
    "    f4()\n",
    "    print(\"Hello 2\")\n",
    "\n",
    "def f3():\n",
    "    f2()\n",
    "    print(\"Hello 3\")\n",
    "    f1()\n",
    "\n",
    "def f4():\n",
    "    print(\"Hello 4\")\n",
    "\n",
    "f3()\n",
    "\n"
   ]
  },
  {
   "cell_type": "code",
   "execution_count": 17,
   "id": "06f9ef27",
   "metadata": {},
   "outputs": [
    {
     "name": "stdout",
     "output_type": "stream",
     "text": [
      "In D\n",
      "In B\n",
      "In C\n",
      "In A\n"
     ]
    }
   ],
   "source": [
    "def f1():\n",
    "    print(\"In A\")\n",
    "\n",
    "def f2():\n",
    "    f3()\n",
    "    print(\"In C\")\n",
    "    f1()\n",
    "    \n",
    "def f3():\n",
    "    f4()\n",
    "    print(\"In B\")\n",
    "\n",
    "\n",
    "def f4():\n",
    "    print(\"In D\")\n",
    "\n",
    "f2()\n",
    "\n"
   ]
  },
  {
   "cell_type": "code",
   "execution_count": null,
   "id": "b493b97c",
   "metadata": {},
   "outputs": [],
   "source": []
  }
 ],
 "metadata": {
  "kernelspec": {
   "display_name": "Python 3",
   "language": "python",
   "name": "python3"
  },
  "language_info": {
   "codemirror_mode": {
    "name": "ipython",
    "version": 3
   },
   "file_extension": ".py",
   "mimetype": "text/x-python",
   "name": "python",
   "nbconvert_exporter": "python",
   "pygments_lexer": "ipython3",
   "version": "3.8.8"
  }
 },
 "nbformat": 4,
 "nbformat_minor": 5
}
